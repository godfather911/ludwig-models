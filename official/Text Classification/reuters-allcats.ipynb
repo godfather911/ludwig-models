{
 "cells": [
  {
   "cell_type": "markdown",
   "metadata": {},
   "source": [
    "# reuters-allcats"
   ]
  },
  {
   "cell_type": "markdown",
   "metadata": {},
   "source": [
    "**Data analysis of reuters-allcats.csv**"
   ]
  },
  {
   "cell_type": "code",
   "execution_count": 8,
   "metadata": {},
   "outputs": [],
   "source": [
    "import pandas as pd\n",
    "import numpy as np"
   ]
  },
  {
   "cell_type": "code",
   "execution_count": 9,
   "metadata": {},
   "outputs": [],
   "source": [
    "df = pd.read_csv('reuters-allcats.csv', index_col='class')"
   ]
  },
  {
   "cell_type": "code",
   "execution_count": 10,
   "metadata": {},
   "outputs": [
    {
     "data": {
      "text/html": [
       "<div>\n",
       "<style scoped>\n",
       "    .dataframe tbody tr th:only-of-type {\n",
       "        vertical-align: middle;\n",
       "    }\n",
       "\n",
       "    .dataframe tbody tr th {\n",
       "        vertical-align: top;\n",
       "    }\n",
       "\n",
       "    .dataframe thead th {\n",
       "        text-align: right;\n",
       "    }\n",
       "</style>\n",
       "<table border=\"1\" class=\"dataframe\">\n",
       "  <thead>\n",
       "    <tr style=\"text-align: right;\">\n",
       "      <th></th>\n",
       "      <th>text</th>\n",
       "    </tr>\n",
       "    <tr>\n",
       "      <th>class</th>\n",
       "      <th></th>\n",
       "    </tr>\n",
       "  </thead>\n",
       "  <tbody>\n",
       "    <tr>\n",
       "      <th>Neg-</th>\n",
       "      <td>2 BAHIA COCOA REVIEW     SALVADOR  Feb 26 - Sh...</td>\n",
       "    </tr>\n",
       "    <tr>\n",
       "      <th>Neg-</th>\n",
       "      <td>2 USX ltX DEBT DOWGRADED BY MOODYS     NEW YOR...</td>\n",
       "    </tr>\n",
       "    <tr>\n",
       "      <th>Pos-earn</th>\n",
       "      <td>2 COBANCO INC ltCBCO YEAR NET     SANTA CRUZ  ...</td>\n",
       "    </tr>\n",
       "    <tr>\n",
       "      <th>Pos-earn</th>\n",
       "      <td>2 BROWN-FORMAN INC ltBFD 4TH QTR NET     LOUIS...</td>\n",
       "    </tr>\n",
       "    <tr>\n",
       "      <th>Neg-</th>\n",
       "      <td>2 HUGHES CAPITAL UNIT SIGNS PACT WITH BEAR STE...</td>\n",
       "    </tr>\n",
       "  </tbody>\n",
       "</table>\n",
       "</div>"
      ],
      "text/plain": [
       "                                                       text\n",
       "class                                                      \n",
       "Neg-      2 BAHIA COCOA REVIEW     SALVADOR  Feb 26 - Sh...\n",
       "Neg-      2 USX ltX DEBT DOWGRADED BY MOODYS     NEW YOR...\n",
       "Pos-earn  2 COBANCO INC ltCBCO YEAR NET     SANTA CRUZ  ...\n",
       "Pos-earn  2 BROWN-FORMAN INC ltBFD 4TH QTR NET     LOUIS...\n",
       "Neg-      2 HUGHES CAPITAL UNIT SIGNS PACT WITH BEAR STE..."
      ]
     },
     "execution_count": 10,
     "metadata": {},
     "output_type": "execute_result"
    }
   ],
   "source": [
    "df.head(3)"
   ]
  },
  {
   "cell_type": "code",
   "execution_count": null,
   "metadata": {},
   "outputs": [],
   "source": []
  }
 ],
 "metadata": {
  "kernelspec": {
   "display_name": "Python 3",
   "language": "python",
   "name": "python3"
  },
  "language_info": {
   "codemirror_mode": {
    "name": "ipython",
    "version": 3
   },
   "file_extension": ".py",
   "mimetype": "text/x-python",
   "name": "python",
   "nbconvert_exporter": "python",
   "pygments_lexer": "ipython3",
   "version": "3.7.2"
  }
 },
 "nbformat": 4,
 "nbformat_minor": 4
}
